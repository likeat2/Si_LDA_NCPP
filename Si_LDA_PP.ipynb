{
 "cells": [
  {
   "cell_type": "code",
   "execution_count": 4,
   "metadata": {},
   "outputs": [
    {
     "name": "stdout",
     "output_type": "stream",
     "text": [
      "          r            3P        3S            2P        2S        1S  \\\n",
      "0  0.000065  8.533000e-08  0.000502  3.660390e-07  0.001746  0.006586   \n",
      "1  0.000066  8.636000e-08  0.000505  3.704570e-07  0.001757  0.006625   \n",
      "2  0.000066  8.740300e-08  0.000508  3.749280e-07  0.001767  0.006665   \n",
      "3  0.000066  8.845700e-08  0.000511  3.794530e-07  0.001778  0.006705   \n",
      "4  0.000067  8.952500e-08  0.000514  3.840330e-07  0.001788  0.006746   \n",
      "\n",
      "            3P2           3S2           2P3           2S4           1S5  \n",
      "0  5.557921e-12  3.269029e-08  2.384174e-11  1.137316e-07  4.289682e-07  \n",
      "1  5.658861e-12  3.308475e-08  2.427472e-11  1.151039e-07  4.341444e-07  \n",
      "2  5.761671e-12  3.348398e-08  2.471553e-11  1.164929e-07  4.393831e-07  \n",
      "3  5.866244e-12  3.388802e-08  2.516436e-11  1.178986e-07  4.446850e-07  \n",
      "4  5.972800e-12  3.429693e-08  2.562136e-11  1.193212e-07  4.500508e-07  \n"
     ]
    }
   ],
   "source": [
    "import pandas as pd\n",
    "import numpy as np\n",
    "\n",
    "data = pd.read_excel('Si_AE.xlsx', sheet_name='ld1')\n",
    "print(data.head())"
   ]
  },
  {
   "cell_type": "code",
   "execution_count": 5,
   "metadata": {},
   "outputs": [],
   "source": [
    "def cutoff_radius(r_cl):\n",
    "    closest_index, closest_number = min(enumerate(data['r']),key=lambda x: abs(x[1]-r_cl))\n",
    "    return(closest_index)"
   ]
  },
  {
   "cell_type": "code",
   "execution_count": 6,
   "metadata": {},
   "outputs": [
    {
     "name": "stdout",
     "output_type": "stream",
     "text": [
      "8.636e-08\n"
     ]
    }
   ],
   "source": [
    "print(data.iloc[1,1])"
   ]
  },
  {
   "cell_type": "code",
   "execution_count": 7,
   "metadata": {},
   "outputs": [],
   "source": [
    "def norm_AE(r_cl,orbital_label):\n",
    "    norm_AE = 0\n",
    "    for i in range(0,cutoff_radius(r_cl)):\n",
    "        norm_AE = norm_AE + ((data.iloc[i,orbital_label])**2 + (data.iloc[i+1,orbital_label])**2)*((data.iloc[i+1,0])-data.iloc[i,0])/2\n",
    "    return(norm_AE)    "
   ]
  },
  {
   "cell_type": "code",
   "execution_count": 8,
   "metadata": {},
   "outputs": [
    {
     "name": "stdout",
     "output_type": "stream",
     "text": [
      "0.008307433076215103\n"
     ]
    }
   ],
   "source": [
    "print(norm_AE(1,6))"
   ]
  },
  {
   "cell_type": "code",
   "execution_count": 9,
   "metadata": {},
   "outputs": [],
   "source": [
    "def first_derivative(r_cl,orbital_label):\n",
    "    index = cutoff_radius(r_cl)\n",
    "    return((data.iloc[index-2,orbital_label]-8*data.iloc[index-1,orbital_label]+8*data.iloc[index+1,orbital_label]-data.iloc[index+2,orbital_label])/(3*(data.iloc[index+2,0]-data.iloc[index-2,0])))\n"
   ]
  },
  {
   "cell_type": "code",
   "execution_count": 10,
   "metadata": {},
   "outputs": [
    {
     "name": "stdout",
     "output_type": "stream",
     "text": [
      "-1.0164516924765794\n"
     ]
    }
   ],
   "source": [
    "print(first_derivative(1,6))"
   ]
  },
  {
   "cell_type": "code",
   "execution_count": 11,
   "metadata": {},
   "outputs": [],
   "source": [
    "def second_derivative(r_cl,orbital_label):\n",
    "    index = cutoff_radius(r_cl)\n",
    "    r_cl_02 = data.iloc[index-2,0]\n",
    "    r_cl_01 = data.iloc[index-1,0]\n",
    "    r_cl_1 = data.iloc[index+1,0]\n",
    "    r_cl_2 = data.iloc[index+2,0]\n",
    "    return((first_derivative(r_cl_02,orbital_label)-8*first_derivative(r_cl_01,orbital_label)+8*first_derivative(r_cl_1,orbital_label)-first_derivative(r_cl_2,orbital_label))/(3*(data.iloc[index+2,0]-data.iloc[index-2,0])))\n"
   ]
  },
  {
   "cell_type": "code",
   "execution_count": 12,
   "metadata": {},
   "outputs": [
    {
     "name": "stdout",
     "output_type": "stream",
     "text": [
      "-0.7129776040404567\n"
     ]
    }
   ],
   "source": [
    "print(second_derivative(1,6))"
   ]
  },
  {
   "cell_type": "code",
   "execution_count": 13,
   "metadata": {},
   "outputs": [],
   "source": [
    "def matrix_gen_A(r_cl):\n",
    "    r = data.iloc[cutoff_radius(r_cl),0]\n",
    "    print(r)\n",
    "    A = np.zeros((4,4))\n",
    "    A[0,0]=1; A[0,1]=r**2; A[0,2]=r**3; A[0,3]=r**4\n",
    "    A[1,1]=2*r; A[1,2]=3*r**2; A[1,3]=4*r**3\n",
    "    A[2,1]=2; A[2,2]=6*r; A[2,3]=12*r**2\n",
    "    return(A)\n",
    "    "
   ]
  },
  {
   "cell_type": "code",
   "execution_count": 14,
   "metadata": {},
   "outputs": [
    {
     "name": "stdout",
     "output_type": "stream",
     "text": [
      "1.002947004289\n",
      "[[ 1.          1.00590269  1.00886709  1.01184023]\n",
      " [ 0.          2.00589401  3.01770808  4.03546837]\n",
      " [ 0.          2.          6.01768203 12.07083232]\n",
      " [ 0.          0.          0.          0.        ]]\n"
     ]
    }
   ],
   "source": [
    "print(matrix_gen_A(1))"
   ]
  },
  {
   "cell_type": "code",
   "execution_count": 15,
   "metadata": {},
   "outputs": [],
   "source": [
    "def angular_momentum(orbital_label):\n",
    "    if orbital_label == 6 or 8:\n",
    "        l = 1\n",
    "    elif orbital_label == 7 or 9 or 10:\n",
    "        l = 0\n",
    "    else:\n",
    "        raise ValueError\n",
    "    return(l)"
   ]
  },
  {
   "cell_type": "code",
   "execution_count": 19,
   "metadata": {},
   "outputs": [],
   "source": [
    "def vector_gen_b(r_cl,orbital_label):\n",
    "    r = data.iloc[cutoff_radius(r_cl),0]\n",
    "    l = angular_momentum(orbital_label)\n",
    "    b = np.zeros((4,1))\n",
    "    b[0]=np.log(data.iloc[cutoff_radius(r),orbital_label]/(r**(l+1)))\n",
    "    b[1]=first_derivative(r,orbital_label)/data.iloc[cutoff_radius(r),orbital_label]-(l+1)/r\n",
    "    b[2]=(second_derivative(r,orbital_label)*data.iloc[cutoff_radius(r),orbital_label]-first_derivative(r,orbital_label)**2)/(data.iloc[cutoff_radius(r),orbital_label])**2+(l+1)/r**2\n",
    "    print(l)\n",
    "    return(b)"
   ]
  },
  {
   "cell_type": "code",
   "execution_count": 21,
   "metadata": {},
   "outputs": [
    {
     "name": "stdout",
     "output_type": "stream",
     "text": [
      "1\n",
      "[[ -1.0128219 ]\n",
      " [  2.03792655]\n",
      " [-13.05708993]\n",
      " [  0.        ]]\n"
     ]
    }
   ],
   "source": [
    "print(vector_gen_b(1,7))"
   ]
  },
  {
   "cell_type": "code",
   "execution_count": 23,
   "metadata": {},
   "outputs": [],
   "source": [
    "def Gauss_Jordan_elimination(A,b):\n",
    "    A = np.hstack((A, b.reshape(-1, 1)))\n",
    "    rows, cols = A.shape\n",
    "    for i in range(rows):\n",
    "        # 找主元列\n",
    "        for j in range(i, cols - 1):\n",
    "            if A[i, j] != 0:\n",
    "                # 交换行，保证主元在对角线位置\n",
    "                if i != j:\n",
    "                    A[[i, j]] = A[[j, i]]\n",
    "                # 归一化主元\n",
    "                A[i] /= A[i, j]\n",
    "                # 消去主元所在列的其他行\n",
    "                for k in range(rows):\n",
    "                    if k != i:\n",
    "                        A[k] -= A[k, j] * A[i]\n",
    "                break\n",
    "    return(A)"
   ]
  },
  {
   "cell_type": "code",
   "execution_count": null,
   "metadata": {},
   "outputs": [],
   "source": []
  }
 ],
 "metadata": {
  "kernelspec": {
   "display_name": "Python 3",
   "language": "python",
   "name": "python3"
  },
  "language_info": {
   "codemirror_mode": {
    "name": "ipython",
    "version": 3
   },
   "file_extension": ".py",
   "mimetype": "text/x-python",
   "name": "python",
   "nbconvert_exporter": "python",
   "pygments_lexer": "ipython3",
   "version": "3.12.7"
  }
 },
 "nbformat": 4,
 "nbformat_minor": 2
}
